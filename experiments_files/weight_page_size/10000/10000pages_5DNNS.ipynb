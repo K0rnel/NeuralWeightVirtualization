{
  "nbformat": 4,
  "nbformat_minor": 0,
  "metadata": {
    "colab": {
      "name": "10000pages_5DNNS.ipynb",
      "provenance": [],
      "collapsed_sections": [],
      "toc_visible": true
    },
    "kernelspec": {
      "name": "python3",
      "display_name": "Python 3"
    },
    "accelerator": "GPU"
  },
  "cells": [
    {
      "cell_type": "markdown",
      "metadata": {
        "id": "M56qZ7aEFnyw"
      },
      "source": [
        "# L46 Project Notebook"
      ]
    },
    {
      "cell_type": "markdown",
      "metadata": {
        "id": "C4u-mwxE5C27"
      },
      "source": [
        "##1. Setup\n",
        "To setup the Colab runtime for this project, first ensure that the **GPU runtime** is selected.\n",
        "\n",
        "Following that, run the cells below to ensure the version compatibility of TensorFlow and Numpy packages."
      ]
    },
    {
      "cell_type": "code",
      "metadata": {
        "colab": {
          "base_uri": "https://localhost:8080/"
        },
        "id": "IrqYQU7EfeIu",
        "outputId": "4659a3af-a1aa-4f68-cc97-943b4be5398e"
      },
      "source": [
        "#!pip uninstall -y tensorflow\n",
        "#!pip install tensorflow-gpu==1.13.1\n",
        "import tensorflow as tf\n",
        "print(tf.__version__)\n",
        "\n",
        "#!pip uninstall -y numpy\n",
        "#!pip install numpy==1.16.4\n",
        "import numpy as np\n",
        "print(np.__version__)"
      ],
      "execution_count": 1,
      "outputs": [
        {
          "output_type": "stream",
          "text": [
            "1.13.1\n",
            "1.16.4\n"
          ],
          "name": "stdout"
        }
      ]
    },
    {
      "cell_type": "markdown",
      "metadata": {
        "id": "swHfq_v77A6V"
      },
      "source": [
        "Next, clone the data from the GitHub repository."
      ]
    },
    {
      "cell_type": "code",
      "metadata": {
        "id": "Ss16WRzhEfoB",
        "colab": {
          "base_uri": "https://localhost:8080/"
        },
        "outputId": "4d328c44-774d-4060-df9a-72cf236a66e1"
      },
      "source": [
        "!git clone https://github.com/K0rnel/NeuralWeightVirtualization"
      ],
      "execution_count": 2,
      "outputs": [
        {
          "output_type": "stream",
          "text": [
            "Cloning into 'NeuralWeightVirtualization'...\n",
            "remote: Enumerating objects: 201, done.\u001b[K\n",
            "remote: Counting objects: 100% (201/201), done.\u001b[K\n",
            "remote: Compressing objects: 100% (146/146), done.\u001b[K\n",
            "remote: Total 201 (delta 92), reused 147 (delta 50), pack-reused 0\u001b[K\n",
            "Receiving objects: 100% (201/201), 11.95 MiB | 24.62 MiB/s, done.\n",
            "Resolving deltas: 100% (92/92), done.\n"
          ],
          "name": "stdout"
        }
      ]
    },
    {
      "cell_type": "code",
      "metadata": {
        "colab": {
          "base_uri": "https://localhost:8080/"
        },
        "id": "gtY_vZ9IgLZE",
        "outputId": "2ba1ec3a-cc9a-430c-f894-4350ea6b7d68"
      },
      "source": [
        "%cd NeuralWeightVirtualization"
      ],
      "execution_count": 3,
      "outputs": [
        {
          "output_type": "stream",
          "text": [
            "/content/NeuralWeightVirtualization\n"
          ],
          "name": "stdout"
        }
      ]
    },
    {
      "cell_type": "code",
      "metadata": {
        "colab": {
          "base_uri": "https://localhost:8080/"
        },
        "id": "xW0QJCo7gSGA",
        "outputId": "ad7910cf-a726-40c6-cb82-1db1a6b7ab7a"
      },
      "source": [
        "ls"
      ],
      "execution_count": 4,
      "outputs": [
        {
          "output_type": "stream",
          "text": [
            "baseline_execute.py   GTSRB_data.py               \u001b[0m\u001b[01;32msequential_optimization.sh\u001b[0m*\n",
            "\u001b[01;34mcifar10\u001b[0m/              \u001b[01;34mhhar\u001b[0m/                       \u001b[01;34msvhn\u001b[0m/\n",
            "cifar10_data.py       hhar_data.py                svhn_data.py\n",
            "\u001b[01;32mdownload_dataset.sh\u001b[0m*  in-memory_execute.py        \u001b[01;34mtf_operation\u001b[0m/\n",
            "\u001b[01;34mesc10\u001b[0m/                \u001b[01;32mjoint_optimization.sh\u001b[0m*      \u001b[01;32mtf_operation.so\u001b[0m*\n",
            "esc10_data.py         L46_Project_Notebook.ipynb  \u001b[01;34mus8k\u001b[0m/\n",
            "\u001b[01;34mfmnist\u001b[0m/               \u001b[01;34mmnist\u001b[0m/                      us8k_data.py\n",
            "fmnist_data.py        mnist_data.py               \u001b[01;32mweight_loader.so\u001b[0m*\n",
            "\u001b[01;34mgsc\u001b[0m/                  \u001b[01;34mobs\u001b[0m/                        weight_virtualization.py\n",
            "GSC_v2_data.py        obstacle_data.py\n",
            "\u001b[01;34mgtsrb\u001b[0m/                README.md\n"
          ],
          "name": "stdout"
        }
      ]
    },
    {
      "cell_type": "markdown",
      "metadata": {
        "id": "q0qoxko47Ssw"
      },
      "source": [
        "##2. Download datasets\n",
        "Before getting into the weight virtualization, download the required datasets by executing the following script (download_dataset.sh). The script uses curl for downloading the datasets.\n"
      ]
    },
    {
      "cell_type": "code",
      "metadata": {
        "colab": {
          "base_uri": "https://localhost:8080/"
        },
        "id": "soJe5nUlgS5o",
        "outputId": "7339fb9b-7077-4ac6-f9fb-c29c68fbbb77"
      },
      "source": [
        "!sh download_dataset.sh"
      ],
      "execution_count": 5,
      "outputs": [
        {
          "output_type": "stream",
          "text": [
            "[1/9] Downloading CIFAR10 dataset...\n",
            "  % Total    % Received % Xferd  Average Speed   Time    Time     Time  Current\n",
            "                                 Dload  Upload   Total   Spent    Left  Speed\n",
            "100   408    0   408    0     0   2649      0 --:--:-- --:--:-- --:--:--  2649\n",
            "  0     0    0     0    0     0      0      0 --:--:-- --:--:-- --:--:--     0\n",
            "  0     0    0     0    0     0      0      0 --:--:-- --:--:-- --:--:--     0\n",
            "100  234M    0  234M    0     0   135M      0 --:--:--  0:00:01 --:--:--  182M\n",
            "  % Total    % Received % Xferd  Average Speed   Time    Time     Time  Current\n",
            "                                 Dload  Upload   Total   Spent    Left  Speed\n",
            "100   408    0   408    0     0    468      0 --:--:-- --:--:-- --:--:--   468\n",
            "  0     0    0     0    0     0      0      0 --:--:-- --:--:-- --:--:--     0\n",
            "  0     0    0     0    0     0      0      0 --:--:--  0:00:01 --:--:--     0\n",
            "100  781k  100  781k    0     0   651k      0  0:00:01  0:00:01 --:--:--  651k\n",
            "  % Total    % Received % Xferd  Average Speed   Time    Time     Time  Current\n",
            "                                 Dload  Upload   Total   Spent    Left  Speed\n",
            "100   408    0   408    0     0   2358      0 --:--:-- --:--:-- --:--:--  2344\n",
            "  0     0    0     0    0     0      0      0 --:--:-- --:--:-- --:--:--     0\n",
            "  0     0    0     0    0     0      0      0 --:--:-- --:--:-- --:--:--     0\n",
            "100 1171M    0 1171M    0     0   207M      0 --:--:--  0:00:05 --:--:--  234M\n",
            "  % Total    % Received % Xferd  Average Speed   Time    Time     Time  Current\n",
            "                                 Dload  Upload   Total   Spent    Left  Speed\n",
            "100   408    0   408    0     0    596      0 --:--:-- --:--:-- --:--:--   595\n",
            "  0     0    0     0    0     0      0      0 --:--:-- --:--:-- --:--:--     0\n",
            "  0     0    0     0    0     0      0      0 --:--:-- --:--:-- --:--:--     0\n",
            "100 3906k    0 3906k    0     0  3837k      0 --:--:--  0:00:01 --:--:-- 3837k\n",
            "\n",
            "[2/9] Downloading Google Speech Command V2 dataset...\n",
            "  % Total    % Received % Xferd  Average Speed   Time    Time     Time  Current\n",
            "                                 Dload  Upload   Total   Spent    Left  Speed\n",
            "100   408    0   408    0     0    510      0 --:--:-- --:--:-- --:--:--   510\n",
            "  0     0    0     0    0     0      0      0 --:--:-- --:--:-- --:--:--     0\n",
            "  0     0    0     0    0     0      0      0 --:--:-- --:--:-- --:--:--     0\n",
            "100 66.5M    0 66.5M    0     0  47.6M      0 --:--:--  0:00:01 --:--:-- 47.6M\n",
            "  % Total    % Received % Xferd  Average Speed   Time    Time     Time  Current\n",
            "                                 Dload  Upload   Total   Spent    Left  Speed\n",
            "100   408    0   408    0     0   1789      0 --:--:-- --:--:-- --:--:--  1789\n",
            "  0     0    0     0    0     0      0      0 --:--:-- --:--:-- --:--:--     0\n",
            "  0     0    0     0    0     0      0      0 --:--:-- --:--:-- --:--:--     0\n",
            "100 3009k    0 3009k    0     0  5152k      0 --:--:-- --:--:-- --:--:-- 5152k\n",
            "  % Total    % Received % Xferd  Average Speed   Time    Time     Time  Current\n",
            "                                 Dload  Upload   Total   Spent    Left  Speed\n",
            "100   408    0   408    0     0   2582      0 --:--:-- --:--:-- --:--:--  2582\n",
            "  0     0    0     0    0     0      0      0 --:--:-- --:--:-- --:--:--     0\n",
            "  0     0    0     0    0     0      0      0 --:--:-- --:--:-- --:--:--     0\n",
            "100  513M    0  513M    0     0   163M      0 --:--:--  0:00:03 --:--:--  198M\n",
            "  % Total    % Received % Xferd  Average Speed   Time    Time     Time  Current\n",
            "                                 Dload  Upload   Total   Spent    Left  Speed\n",
            "100   408    0   408    0     0    329      0 --:--:--  0:00:01 --:--:--   329\n",
            "  0     0    0     0    0     0      0      0 --:--:--  0:00:01 --:--:--     0\n",
            "  0     0    0     0    0     0      0      0 --:--:--  0:00:01 --:--:--     0\n",
            "100 22.6M    0 22.6M    0     0  13.9M      0 --:--:--  0:00:01 --:--:--  231M\n",
            "  % Total    % Received % Xferd  Average Speed   Time    Time     Time  Current\n",
            "                                 Dload  Upload   Total   Spent    Left  Speed\n",
            "100   408    0   408    0     0    606      0 --:--:-- --:--:-- --:--:--   605\n",
            "  0     0    0     0    0     0      0      0 --:--:-- --:--:-- --:--:--     0\n",
            "  0     0    0     0    0     0      0      0 --:--:-- --:--:-- --:--:--     0\n",
            "100 60.3M    0 60.3M    0     0  50.9M      0 --:--:--  0:00:01 --:--:-- 50.9M\n",
            "  % Total    % Received % Xferd  Average Speed   Time    Time     Time  Current\n",
            "                                 Dload  Upload   Total   Spent    Left  Speed\n",
            "100   408    0   408    0     0   1906      0 --:--:-- --:--:-- --:--:--  1906\n",
            "  0     0    0     0    0     0      0      0 --:--:-- --:--:-- --:--:--     0\n",
            "  0     0    0     0    0     0      0      0 --:--:-- --:--:-- --:--:--     0\n",
            "100 2729k    0 2729k    0     0  4908k      0 --:--:-- --:--:-- --:--:-- 4908k\n",
            "\n",
            "[3/9] Downloading GTSRB dataset...\n",
            "  % Total    % Received % Xferd  Average Speed   Time    Time     Time  Current\n",
            "                                 Dload  Upload   Total   Spent    Left  Speed\n",
            "100   408    0   408    0     0    306      0 --:--:--  0:00:01 --:--:--   306\n",
            "  0     0    0     0    0     0      0      0 --:--:--  0:00:01 --:--:--     0\n",
            "  0     0    0     0    0     0      0      0 --:--:--  0:00:01 --:--:--     0\n",
            "100 98.6M    0 98.6M    0     0  49.6M      0 --:--:--  0:00:01 --:--:-- 49.6M\n",
            "  % Total    % Received % Xferd  Average Speed   Time    Time     Time  Current\n",
            "                                 Dload  Upload   Total   Spent    Left  Speed\n",
            "100   408    0   408    0     0    448      0 --:--:-- --:--:-- --:--:--   447\n",
            "  0     0    0     0    0     0      0      0 --:--:--  0:00:01 --:--:--     0\n",
            "  0     0    0     0    0     0      0      0 --:--:--  0:00:01 --:--:--     0\n",
            "100 4243k    0 4243k    0     0  3241k      0 --:--:--  0:00:01 --:--:-- 3241k\n",
            "  % Total    % Received % Xferd  Average Speed   Time    Time     Time  Current\n",
            "                                 Dload  Upload   Total   Spent    Left  Speed\n",
            "100   408    0   408    0     0   2534      0 --:--:-- --:--:-- --:--:--  2534\n",
            "  0     0    0     0    0     0      0      0 --:--:-- --:--:-- --:--:--     0\n",
            "  0     0    0     0    0     0      0      0 --:--:-- --:--:-- --:--:--     0\n",
            "100  306M    0  306M    0     0   167M      0 --:--:--  0:00:01 --:--:--  221M\n",
            "  % Total    % Received % Xferd  Average Speed   Time    Time     Time  Current\n",
            "                                 Dload  Upload   Total   Spent    Left  Speed\n",
            "100   408    0   408    0     0   1533      0 --:--:-- --:--:-- --:--:--  1533\n",
            "  0     0    0     0    0     0      0      0 --:--:-- --:--:-- --:--:--     0\n",
            "  0     0    0     0    0     0      0      0 --:--:-- --:--:-- --:--:--     0\n",
            "100 12.8M    0 12.8M    0     0  19.8M      0 --:--:-- --:--:-- --:--:-- 19.8M\n",
            "\n",
            "[4/9] Downloading SVHN dataset...\n",
            "  % Total    % Received % Xferd  Average Speed   Time    Time     Time  Current\n",
            "                                 Dload  Upload   Total   Spent    Left  Speed\n",
            "100   408    0   408    0     0   2632      0 --:--:-- --:--:-- --:--:--  2632\n",
            "  0     0    0     0    0     0      0      0 --:--:-- --:--:-- --:--:--     0\n",
            "  0     0    0     0    0     0      0      0 --:--:-- --:--:-- --:--:--     0\n",
            "100  305M    0  305M    0     0   172M      0 --:--:--  0:00:01 --:--:--  230M\n",
            "  % Total    % Received % Xferd  Average Speed   Time    Time     Time  Current\n",
            "                                 Dload  Upload   Total   Spent    Left  Speed\n",
            "100   408    0   408    0     0   1210      0 --:--:-- --:--:-- --:--:--  1207\n",
            "  0     0    0     0    0     0      0      0 --:--:-- --:--:-- --:--:--     0\n",
            "  0     0    0     0    0     0      0      0 --:--:-- --:--:-- --:--:--     0\n",
            "100 1017k  100 1017k    0     0  1522k      0 --:--:-- --:--:-- --:--:-- 1522k\n",
            "  % Total    % Received % Xferd  Average Speed   Time    Time     Time  Current\n",
            "                                 Dload  Upload   Total   Spent    Left  Speed\n",
            "100   408    0   408    0     0   2503      0 --:--:-- --:--:-- --:--:--  2503\n",
            "  0     0    0     0    0     0      0      0 --:--:-- --:--:-- --:--:--     0\n",
            "  0     0    0     0    0     0      0      0 --:--:-- --:--:-- --:--:--     0\n",
            "100  772M    0  772M    0     0  51.2M      0 --:--:--  0:00:15 --:--:-- 28.0M\n",
            "  % Total    % Received % Xferd  Average Speed   Time    Time     Time  Current\n",
            "                                 Dload  Upload   Total   Spent    Left  Speed\n",
            "100   408    0   408    0     0    578      0 --:--:-- --:--:-- --:--:--   577\n",
            "  0     0    0     0    0     0      0      0 --:--:-- --:--:-- --:--:--     0\n",
            "  0     0    0     0    0     0      0      0 --:--:-- --:--:-- --:--:--     0\n",
            "100 2575k    0 2575k    0     0  2452k      0 --:--:--  0:00:01 --:--:--  193M\n",
            "  % Total    % Received % Xferd  Average Speed   Time    Time     Time  Current\n",
            "                                 Dload  Upload   Total   Spent    Left  Speed\n",
            "100   408    0   408    0     0    148      0 --:--:--  0:00:02 --:--:--   148\n",
            "  0     0    0     0    0     0      0      0 --:--:--  0:00:02 --:--:--     0\n",
            "  0     0    0     0    0     0      0      0 --:--:--  0:00:02 --:--:--     0\n",
            "100 85.8M    0 85.8M    0     0  25.8M      0 --:--:--  0:00:03 --:--:-- 25.8M\n",
            "  % Total    % Received % Xferd  Average Speed   Time    Time     Time  Current\n",
            "                                 Dload  Upload   Total   Spent    Left  Speed\n",
            "100   408    0   408    0     0    935      0 --:--:-- --:--:-- --:--:--   935\n",
            "  0     0    0     0    0     0      0      0 --:--:-- --:--:-- --:--:--     0\n",
            "  0     0    0     0    0     0      0      0 --:--:-- --:--:-- --:--:--     0\n",
            "100  286k  100  286k    0     0   363k      0 --:--:-- --:--:-- --:--:-- 4544k\n",
            "\n",
            "[5/9] Downloading US8K dataset...\n",
            "  % Total    % Received % Xferd  Average Speed   Time    Time     Time  Current\n",
            "                                 Dload  Upload   Total   Spent    Left  Speed\n",
            "100   408    0   408    0     0   2833      0 --:--:-- --:--:-- --:--:--  2833\n",
            "  0     0    0     0    0     0      0      0 --:--:-- --:--:-- --:--:--     0\n",
            "  0     0    0     0    0     0      0      0 --:--:-- --:--:-- --:--:--     0\n",
            "100  202M    0  202M    0     0   118M      0 --:--:--  0:00:01 --:--:--  195M\n",
            "  % Total    % Received % Xferd  Average Speed   Time    Time     Time  Current\n",
            "                                 Dload  Upload   Total   Spent    Left  Speed\n",
            "100   408    0   408    0     0    850      0 --:--:-- --:--:-- --:--:--   848\n",
            "  0     0    0     0    0     0      0      0 --:--:-- --:--:-- --:--:--     0\n",
            "  0     0    0     0    0     0      0      0 --:--:-- --:--:-- --:--:--     0\n",
            "100  422k  100  422k    0     0   508k      0 --:--:-- --:--:-- --:--:--  508k\n",
            "  % Total    % Received % Xferd  Average Speed   Time    Time     Time  Current\n",
            "                                 Dload  Upload   Total   Spent    Left  Speed\n",
            "100   408    0   408    0     0   2598      0 --:--:-- --:--:-- --:--:--  2598\n",
            "  0     0    0     0    0     0      0      0 --:--:-- --:--:-- --:--:--     0\n",
            "  0     0    0     0    0     0      0      0 --:--:-- --:--:-- --:--:--     0\n",
            "100 1826M    0 1826M    0     0  43.5M      0 --:--:--  0:00:41 --:--:-- 38.8M\n",
            "  % Total    % Received % Xferd  Average Speed   Time    Time     Time  Current\n",
            "                                 Dload  Upload   Total   Spent    Left  Speed\n",
            "100   408    0   408    0     0    366      0 --:--:--  0:00:01 --:--:--   367\n",
            "  0     0    0     0    0     0      0      0 --:--:--  0:00:01 --:--:--     0\n",
            "  0     0    0     0    0     0      0      0 --:--:--  0:00:01 --:--:--     0\n",
            "100 3801k    0 3801k    0     0  2616k      0 --:--:--  0:00:01 --:--:-- 2616k\n",
            "\n",
            "[6/9] Downloading FMNIST dataset...\n",
            "  % Total    % Received % Xferd  Average Speed   Time    Time     Time  Current\n",
            "                                 Dload  Upload   Total   Spent    Left  Speed\n",
            "100   408    0   408    0     0    695      0 --:--:-- --:--:-- --:--:--   693\n",
            "  0     0    0     0    0     0      0      0 --:--:-- --:--:-- --:--:--     0\n",
            "  0     0    0     0    0     0      0      0 --:--:-- --:--:-- --:--:--     0\n",
            "100 59.8M    0 59.8M    0     0  54.2M      0 --:--:--  0:00:01 --:--:-- 54.2M\n",
            "  % Total    % Received % Xferd  Average Speed   Time    Time     Time  Current\n",
            "                                 Dload  Upload   Total   Spent    Left  Speed\n",
            "100   408    0   408    0     0    668      0 --:--:-- --:--:-- --:--:--   667\n",
            "  0     0    0     0    0     0      0      0 --:--:-- --:--:-- --:--:--     0\n",
            "  0     0    0     0    0     0      0      0 --:--:-- --:--:-- --:--:--     0\n",
            "100  390k  100  390k    0     0   417k      0 --:--:-- --:--:-- --:--:--  417k\n",
            "  % Total    % Received % Xferd  Average Speed   Time    Time     Time  Current\n",
            "                                 Dload  Upload   Total   Spent    Left  Speed\n",
            "100   408    0   408    0     0   2684      0 --:--:-- --:--:-- --:--:--  2684\n",
            "  0     0    0     0    0     0      0      0 --:--:-- --:--:-- --:--:--     0\n",
            "  0     0    0     0    0     0      0      0 --:--:-- --:--:-- --:--:--     0\n",
            "100  358M    0  358M    0     0   173M      0 --:--:--  0:00:02 --:--:--  220M\n",
            "  % Total    % Received % Xferd  Average Speed   Time    Time     Time  Current\n",
            "                                 Dload  Upload   Total   Spent    Left  Speed\n",
            "100   408    0   408    0     0   1651      0 --:--:-- --:--:-- --:--:--  1651\n",
            "  0     0    0     0    0     0      0      0 --:--:-- --:--:-- --:--:--     0\n",
            "  0     0    0     0    0     0      0      0 --:--:-- --:--:-- --:--:--     0\n",
            "100 2343k    0 2343k    0     0  3965k      0 --:--:-- --:--:-- --:--:-- 3965k\n",
            "\n",
            "[7/9] Downloading HHAR dataset...\n",
            "  % Total    % Received % Xferd  Average Speed   Time    Time     Time  Current\n",
            "                                 Dload  Upload   Total   Spent    Left  Speed\n",
            "100   408    0   408    0     0    387      0 --:--:--  0:00:01 --:--:--   387\n",
            "  0     0    0     0    0     0      0      0 --:--:--  0:00:01 --:--:--     0\n",
            "  0     0    0     0    0     0      0      0 --:--:--  0:00:01 --:--:--     0\n",
            "100 21.8M    0 21.8M    0     0  14.9M      0 --:--:--  0:00:01 --:--:--  182M\n",
            "  % Total    % Received % Xferd  Average Speed   Time    Time     Time  Current\n",
            "                                 Dload  Upload   Total   Spent    Left  Speed\n",
            "100   408    0   408    0     0   1575      0 --:--:-- --:--:-- --:--:--  1569\n",
            "  0     0    0     0    0     0      0      0 --:--:-- --:--:-- --:--:--     0\n",
            "  0     0    0     0    0     0      0      0 --:--:-- --:--:-- --:--:--     0\n",
            "100 57392  100 57392    0     0  97771      0 --:--:-- --:--:-- --:--:-- 97771\n",
            "  % Total    % Received % Xferd  Average Speed   Time    Time     Time  Current\n",
            "                                 Dload  Upload   Total   Spent    Left  Speed\n",
            "100   408    0   408    0     0   2756      0 --:--:-- --:--:-- --:--:--  2756\n",
            "  0     0    0     0    0     0      0      0 --:--:-- --:--:-- --:--:--     0\n",
            "  0     0    0     0    0     0      0      0 --:--:-- --:--:-- --:--:--     0\n",
            "100 2180M    0 2180M    0     0  47.1M      0 --:--:--  0:00:46 --:--:-- 42.4M\n",
            "  % Total    % Received % Xferd  Average Speed   Time    Time     Time  Current\n",
            "                                 Dload  Upload   Total   Spent    Left  Speed\n",
            "100   408    0   408    0     0    432      0 --:--:-- --:--:-- --:--:--   431\n",
            "  0     0    0     0    0     0      0      0 --:--:--  0:00:01 --:--:--     0\n",
            "  0     0    0     0    0     0      0      0 --:--:--  0:00:01 --:--:--     0\n",
            "100 5582k    0 5582k    0     0  4283k      0 --:--:--  0:00:01 --:--:-- 4283k\n",
            "\n",
            "[8/9] Downloading ESC10 dataset...\n",
            "  % Total    % Received % Xferd  Average Speed   Time    Time     Time  Current\n",
            "                                 Dload  Upload   Total   Spent    Left  Speed\n",
            "100   408    0   408    0     0    164      0 --:--:--  0:00:02 --:--:--   164\n",
            "  0     0    0     0    0     0      0      0 --:--:--  0:00:02 --:--:--     0\n",
            "  0     0    0     0    0     0      0      0 --:--:--  0:00:02 --:--:--     0\n",
            "100 26.3M    0 26.3M    0     0  9193k      0 --:--:--  0:00:02 --:--:--  196M\n",
            "  % Total    % Received % Xferd  Average Speed   Time    Time     Time  Current\n",
            "                                 Dload  Upload   Total   Spent    Left  Speed\n",
            "100   408    0   408    0     0   1581      0 --:--:-- --:--:-- --:--:--  1587\n",
            "  0     0    0     0    0     0      0      0 --:--:-- --:--:-- --:--:--     0\n",
            "  0     0    0     0    0     0      0      0 --:--:-- --:--:-- --:--:--     0\n",
            "100 28208  100 28208    0     0  46091      0 --:--:-- --:--:-- --:--:-- 46091\n",
            "  % Total    % Received % Xferd  Average Speed   Time    Time     Time  Current\n",
            "                                 Dload  Upload   Total   Spent    Left  Speed\n",
            "100   408    0   408    0     0   2756      0 --:--:-- --:--:-- --:--:--  2756\n",
            "  0     0    0     0    0     0      0      0 --:--:-- --:--:-- --:--:--     0\n",
            "  0     0    0     0    0     0      0      0 --:--:-- --:--:-- --:--:--     0\n",
            "100  237M    0  237M    0     0   124M      0 --:--:--  0:00:01 --:--:--  312M\n",
            "  % Total    % Received % Xferd  Average Speed   Time    Time     Time  Current\n",
            "                                 Dload  Upload   Total   Spent    Left  Speed\n",
            "100   408    0   408    0     0   1000      0 --:--:-- --:--:-- --:--:--  1000\n",
            "  0     0    0     0    0     0      0      0 --:--:-- --:--:-- --:--:--     0\n",
            "  0     0    0     0    0     0      0      0 --:--:-- --:--:-- --:--:--     0\n",
            "100  246k  100  246k    0     0   338k      0 --:--:-- --:--:-- --:--:--  338k\n",
            "\n",
            "[9/9] Downloading OBS dataset...\n",
            "  % Total    % Received % Xferd  Average Speed   Time    Time     Time  Current\n",
            "                                 Dload  Upload   Total   Spent    Left  Speed\n",
            "100   408    0   408    0     0    503      0 --:--:-- --:--:-- --:--:--   504\n",
            "  0     0    0     0    0     0      0      0 --:--:-- --:--:-- --:--:--     0\n",
            "  0     0    0     0    0     0      0      0 --:--:-- --:--:-- --:--:--     0\n",
            "100 78.4M    0 78.4M    0     0  59.0M      0 --:--:--  0:00:01 --:--:-- 59.0M\n",
            "  % Total    % Received % Xferd  Average Speed   Time    Time     Time  Current\n",
            "                                 Dload  Upload   Total   Spent    Left  Speed\n",
            "100   408    0   408    0     0   1079      0 --:--:-- --:--:-- --:--:--  1076\n",
            "  0     0    0     0    0     0      0      0 --:--:-- --:--:-- --:--:--     0\n",
            "  0     0    0     0    0     0      0      0 --:--:-- --:--:-- --:--:--     0\n",
            "100 91488  100 91488    0     0   126k      0 --:--:-- --:--:-- --:--:--  126k\n",
            "  % Total    % Received % Xferd  Average Speed   Time    Time     Time  Current\n",
            "                                 Dload  Upload   Total   Spent    Left  Speed\n",
            "100   408    0   408    0     0   2720      0 --:--:-- --:--:-- --:--:--  2701\n",
            "  0     0    0     0    0     0      0      0 --:--:-- --:--:-- --:--:--     0\n",
            "  0     0    0     0    0     0      0      0 --:--:-- --:--:-- --:--:--     0\n",
            "100  156M    0  156M    0     0   149M      0 --:--:--  0:00:01 --:--:--  149M\n",
            "  % Total    % Received % Xferd  Average Speed   Time    Time     Time  Current\n",
            "                                 Dload  Upload   Total   Spent    Left  Speed\n",
            "100   408    0   408    0     0   1051      0 --:--:-- --:--:-- --:--:--  1051\n",
            "  0     0    0     0    0     0      0      0 --:--:-- --:--:-- --:--:--     0\n",
            "  0     0    0     0    0     0      0      0 --:--:-- --:--:-- --:--:--     0\n",
            "100  178k  100  178k    0     0   252k      0 --:--:-- --:--:-- --:--:--  252k\n",
            "  % Total    % Received % Xferd  Average Speed   Time    Time     Time  Current\n",
            "                                 Dload  Upload   Total   Spent    Left  Speed\n",
            "100   408    0   408    0     0    167      0 --:--:--  0:00:02 --:--:--   167\n",
            "  0     0    0     0    0     0      0      0 --:--:--  0:00:02 --:--:--     0\n",
            "  0     0    0     0    0     0      0      0 --:--:--  0:00:02 --:--:--     0\n",
            "100 78.4M    0 78.4M    0     0  25.4M      0 --:--:--  0:00:03 --:--:-- 25.4M\n",
            "  % Total    % Received % Xferd  Average Speed   Time    Time     Time  Current\n",
            "                                 Dload  Upload   Total   Spent    Left  Speed\n",
            "100   408    0   408    0     0   1451      0 --:--:-- --:--:-- --:--:--  1451\n",
            "  0     0    0     0    0     0      0      0 --:--:-- --:--:-- --:--:--     0\n",
            "  0     0    0     0    0     0      0      0 --:--:-- --:--:-- --:--:--     0\n",
            "100 91488  100 91488    0     0   148k      0 --:--:-- --:--:-- --:--:-- 3080k\n"
          ],
          "name": "stdout"
        }
      ]
    },
    {
      "cell_type": "markdown",
      "metadata": {
        "id": "qe7UFC197vQa"
      },
      "source": [
        "##3. Prepare DNN Models"
      ]
    },
    {
      "cell_type": "code",
      "metadata": {
        "colab": {
          "base_uri": "https://localhost:8080/"
        },
        "id": "OW34-uwegWDk",
        "outputId": "c5fe4329-f903-45b5-c260-7524ce68f07c"
      },
      "source": [
        "ls -d mnist gsc gtsrb cifar10 svhn us8k"
      ],
      "execution_count": 6,
      "outputs": [
        {
          "output_type": "stream",
          "text": [
            "\u001b[0m\u001b[01;34mcifar10\u001b[0m/  \u001b[01;34mgsc\u001b[0m/  \u001b[01;34mgtsrb\u001b[0m/  \u001b[01;34mmnist\u001b[0m/  \u001b[01;34msvhn\u001b[0m/  \u001b[01;34mus8k\u001b[0m/\n"
          ],
          "name": "stdout"
        }
      ]
    },
    {
      "cell_type": "markdown",
      "metadata": {
        "id": "IBr4DQcp71t8"
      },
      "source": [
        "##4. Weight Virtualization "
      ]
    },
    {
      "cell_type": "markdown",
      "metadata": {
        "id": "pCi88cI08Uvh"
      },
      "source": [
        "###Step 1: Weight-Page Matching"
      ]
    },
    {
      "cell_type": "code",
      "metadata": {
        "colab": {
          "base_uri": "https://localhost:8080/"
        },
        "id": "P14Sq1fcgbaS",
        "outputId": "ff103019-fa74-4f8d-ab9a-3968e168c49c"
      },
      "source": [
        "!python weight_virtualization_10000.py -mode=a -network_path=mnist | tee -a mnist_matching_10000_pages.txt"
      ],
      "execution_count": 7,
      "outputs": [
        {
          "output_type": "stream",
          "text": [
            "init new weight pages\n",
            "add_vnn\n",
            "mnist/mnist_network_weight.npy\n",
            "compute_fisher\n",
            "Successfully downloaded train-images-idx3-ubyte.gz 9912422 bytes.\n",
            "Extracting MNIST_data/train-images-idx3-ubyte.gz\n",
            "Successfully downloaded train-labels-idx1-ubyte.gz 28881 bytes.\n",
            "Extracting MNIST_data/train-labels-idx1-ubyte.gz\n",
            "Successfully downloaded t10k-images-idx3-ubyte.gz 1648877 bytes.\n",
            "Extracting MNIST_data/t10k-images-idx3-ubyte.gz\n",
            "Successfully downloaded t10k-labels-idx1-ubyte.gz 4542 bytes.\n",
            "Extracting MNIST_data/t10k-labels-idx1-ubyte.gz\n",
            "do_compute_fisher\n",
            "sample num:    0, data_idx: 11039\n",
            "sample num:    1, data_idx: 12455\n",
            "sample num:    2, data_idx: 14354\n",
            "sample num:    3, data_idx: 40510\n",
            "sample num:    4, data_idx: 22730\n",
            "sample num:    5, data_idx: 37770\n",
            "sample num:    6, data_idx: 34087\n",
            "sample num:    7, data_idx: 19356\n",
            "sample num:    8, data_idx: 35287\n",
            "sample num:    9, data_idx: 10309\n",
            "sample num:   10, data_idx:  6781\n",
            "sample num:   11, data_idx: 22701\n",
            "sample num:   12, data_idx: 32549\n",
            "sample num:   13, data_idx: 31535\n",
            "sample num:   14, data_idx: 47590\n",
            "sample num:   15, data_idx: 38345\n",
            "sample num:   16, data_idx: 49633\n",
            "sample num:   17, data_idx: 22777\n",
            "sample num:   18, data_idx: 54415\n",
            "sample num:   19, data_idx: 19936\n",
            "sample num:   20, data_idx: 31679\n",
            "sample num:   21, data_idx:  9341\n",
            "sample num:   22, data_idx: 26169\n",
            "sample num:   23, data_idx: 22017\n",
            "sample num:   24, data_idx: 15060\n",
            "sample num:   25, data_idx: 41782\n",
            "sample num:   26, data_idx: 33825\n",
            "sample num:   27, data_idx: 34138\n",
            "sample num:   28, data_idx: 34134\n",
            "sample num:   29, data_idx: 39247\n",
            "sample num:   30, data_idx: 38844\n",
            "sample num:   31, data_idx: 23345\n",
            "sample num:   32, data_idx: 35425\n",
            "sample num:   33, data_idx: 41264\n",
            "sample num:   34, data_idx: 40088\n",
            "sample num:   35, data_idx: 39487\n",
            "sample num:   36, data_idx: 24119\n",
            "sample num:   37, data_idx: 45657\n",
            "sample num:   38, data_idx: 35037\n",
            "sample num:   39, data_idx:  5193\n",
            "sample num:   40, data_idx: 37325\n",
            "sample num:   41, data_idx: 26584\n",
            "sample num:   42, data_idx: 25420\n",
            "sample num:   43, data_idx: 14109\n",
            "sample num:   44, data_idx: 46532\n",
            "sample num:   45, data_idx: 16142\n",
            "sample num:   46, data_idx:  9750\n",
            "sample num:   47, data_idx: 50774\n",
            "sample num:   48, data_idx: 24823\n",
            "sample num:   49, data_idx: 32148\n",
            "sample num:   50, data_idx:  3124\n",
            "sample num:   51, data_idx: 44342\n",
            "sample num:   52, data_idx: 19740\n",
            "sample num:   53, data_idx: 40360\n",
            "sample num:   54, data_idx: 36643\n",
            "sample num:   55, data_idx: 50853\n",
            "sample num:   56, data_idx: 22925\n",
            "sample num:   57, data_idx: 50174\n",
            "sample num:   58, data_idx:  9747\n",
            "sample num:   59, data_idx: 38132\n",
            "sample num:   60, data_idx: 16985\n",
            "sample num:   61, data_idx: 13772\n",
            "sample num:   62, data_idx:  2840\n",
            "sample num:   63, data_idx: 14506\n",
            "sample num:   64, data_idx: 14857\n",
            "sample num:   65, data_idx: 44424\n",
            "sample num:   66, data_idx:  3062\n",
            "sample num:   67, data_idx: 53733\n",
            "sample num:   68, data_idx: 46451\n",
            "sample num:   69, data_idx: 11055\n",
            "sample num:   70, data_idx:  5982\n",
            "sample num:   71, data_idx: 47544\n",
            "sample num:   72, data_idx: 33609\n",
            "sample num:   73, data_idx: 36035\n",
            "sample num:   74, data_idx: 51301\n",
            "sample num:   75, data_idx: 30275\n",
            "sample num:   76, data_idx: 12410\n",
            "sample num:   77, data_idx: 54432\n",
            "sample num:   78, data_idx: 45282\n",
            "sample num:   79, data_idx: 43005\n",
            "sample num:   80, data_idx: 53882\n",
            "sample num:   81, data_idx:   505\n",
            "sample num:   82, data_idx: 46696\n",
            "sample num:   83, data_idx:  1270\n",
            "sample num:   84, data_idx:  8063\n",
            "sample num:   85, data_idx: 31513\n",
            "sample num:   86, data_idx: 27637\n",
            "sample num:   87, data_idx:  8535\n",
            "sample num:   88, data_idx: 45004\n",
            "sample num:   89, data_idx: 10911\n",
            "sample num:   90, data_idx: 42953\n",
            "sample num:   91, data_idx: 41429\n",
            "sample num:   92, data_idx: 43768\n",
            "sample num:   93, data_idx: 13029\n",
            "sample num:   94, data_idx: 21084\n",
            "sample num:   95, data_idx: 52543\n",
            "sample num:   96, data_idx: 20862\n",
            "sample num:   97, data_idx:  2101\n",
            "sample num:   98, data_idx:  8036\n",
            "sample num:   99, data_idx: 38744\n",
            "mnist/mnist_network_fisher.npy\n",
            "[calculate_cost]\n",
            "toal_cost: 0.0\n",
            "5 pages allocated for 45706 weights\n",
            "total_network_cost: 0\n"
          ],
          "name": "stdout"
        }
      ]
    },
    {
      "cell_type": "code",
      "metadata": {
        "colab": {
          "base_uri": "https://localhost:8080/"
        },
        "id": "9B05Alk_geNI",
        "outputId": "ae77238b-a98e-421d-a78c-7b83d78d077f"
      },
      "source": [
        "!python weight_virtualization_10000.py -mode=a -network_path=gsc | tee -a gsc_matching_10000_pages.txt"
      ],
      "execution_count": 8,
      "outputs": [
        {
          "output_type": "stream",
          "text": [
            "add_vnn\n",
            "gsc/gsc_network_weight.npy\n",
            "compute_fisher\n",
            "do_compute_fisher\n",
            "sample num:    0, data_idx: 84572\n",
            "sample num:    1, data_idx: 24928\n",
            "sample num:    2, data_idx: 41607\n",
            "sample num:    3, data_idx: 69845\n",
            "sample num:    4, data_idx: 66433\n",
            "sample num:    5, data_idx: 48935\n",
            "sample num:    6, data_idx: 68599\n",
            "sample num:    7, data_idx:  9969\n",
            "sample num:    8, data_idx: 26791\n",
            "sample num:    9, data_idx: 31509\n",
            "sample num:   10, data_idx: 28397\n",
            "sample num:   11, data_idx: 75495\n",
            "sample num:   12, data_idx: 19845\n",
            "sample num:   13, data_idx:  5158\n",
            "sample num:   14, data_idx: 79624\n",
            "sample num:   15, data_idx: 57032\n",
            "sample num:   16, data_idx: 78169\n",
            "sample num:   17, data_idx:  1194\n",
            "sample num:   18, data_idx: 33441\n",
            "sample num:   19, data_idx: 40077\n",
            "sample num:   20, data_idx: 69429\n",
            "sample num:   21, data_idx:  5872\n",
            "sample num:   22, data_idx: 75657\n",
            "sample num:   23, data_idx: 16729\n",
            "sample num:   24, data_idx: 59451\n",
            "sample num:   25, data_idx: 68702\n",
            "sample num:   26, data_idx: 33262\n",
            "sample num:   27, data_idx: 59384\n",
            "sample num:   28, data_idx: 37159\n",
            "sample num:   29, data_idx: 17202\n",
            "sample num:   30, data_idx: 57920\n",
            "sample num:   31, data_idx: 57184\n",
            "sample num:   32, data_idx: 42122\n",
            "sample num:   33, data_idx: 38240\n",
            "sample num:   34, data_idx: 72529\n",
            "sample num:   35, data_idx: 64109\n",
            "sample num:   36, data_idx: 10495\n",
            "sample num:   37, data_idx: 34928\n",
            "sample num:   38, data_idx: 67231\n",
            "sample num:   39, data_idx: 13884\n",
            "sample num:   40, data_idx: 78430\n",
            "sample num:   41, data_idx: 48601\n",
            "sample num:   42, data_idx: 52111\n",
            "sample num:   43, data_idx: 66047\n",
            "sample num:   44, data_idx: 26794\n",
            "sample num:   45, data_idx:   514\n",
            "sample num:   46, data_idx: 38708\n",
            "sample num:   47, data_idx: 73449\n",
            "sample num:   48, data_idx: 80795\n",
            "sample num:   49, data_idx: 16718\n",
            "sample num:   50, data_idx:  7838\n",
            "sample num:   51, data_idx: 30353\n",
            "sample num:   52, data_idx: 22906\n",
            "sample num:   53, data_idx: 46092\n",
            "sample num:   54, data_idx: 69048\n",
            "sample num:   55, data_idx:  3527\n",
            "sample num:   56, data_idx: 54249\n",
            "sample num:   57, data_idx: 33071\n",
            "sample num:   58, data_idx:  7346\n",
            "sample num:   59, data_idx: 70907\n",
            "sample num:   60, data_idx:   329\n",
            "sample num:   61, data_idx: 15196\n",
            "sample num:   62, data_idx: 45650\n",
            "sample num:   63, data_idx:  3271\n",
            "sample num:   64, data_idx: 24544\n",
            "sample num:   65, data_idx: 81739\n",
            "sample num:   66, data_idx:  3583\n",
            "sample num:   67, data_idx: 40200\n",
            "sample num:   68, data_idx:  9515\n",
            "sample num:   69, data_idx: 76268\n",
            "sample num:   70, data_idx: 75164\n",
            "sample num:   71, data_idx: 82610\n",
            "sample num:   72, data_idx: 83238\n",
            "sample num:   73, data_idx: 83900\n",
            "sample num:   74, data_idx: 36078\n",
            "sample num:   75, data_idx: 77501\n",
            "sample num:   76, data_idx: 27569\n",
            "sample num:   77, data_idx: 13621\n",
            "sample num:   78, data_idx:   744\n",
            "sample num:   79, data_idx:  6133\n",
            "sample num:   80, data_idx: 45479\n",
            "sample num:   81, data_idx: 55427\n",
            "sample num:   82, data_idx: 23918\n",
            "sample num:   83, data_idx: 68504\n",
            "sample num:   84, data_idx: 46357\n",
            "sample num:   85, data_idx: 21321\n",
            "sample num:   86, data_idx: 43220\n",
            "sample num:   87, data_idx: 35313\n",
            "sample num:   88, data_idx: 76395\n",
            "sample num:   89, data_idx: 11675\n",
            "sample num:   90, data_idx:  1969\n",
            "sample num:   91, data_idx: 84461\n",
            "sample num:   92, data_idx: 25828\n",
            "sample num:   93, data_idx: 11549\n",
            "sample num:   94, data_idx: 25495\n",
            "sample num:   95, data_idx: 49341\n",
            "sample num:   96, data_idx: 31504\n",
            "sample num:   97, data_idx: 68936\n",
            "sample num:   98, data_idx: 41978\n",
            "sample num:   99, data_idx: 22020\n",
            "gsc/gsc_network_fisher.npy\n",
            "[match_page_by_cost]\n",
            "occupation: 0\n",
            "len(page_list): 2\n",
            "len(network_page_list): 7\n",
            "cost: 0.0\n",
            "\n",
            "occupation: 1\n",
            "len(page_list): 5\n",
            "len(network_page_list): 5\n",
            "cost: 0.22769202\n",
            "\n",
            "assing_page 210.344 ms\n",
            "[calculate_cost]\n",
            "toal_cost: 0.22769440803676844\n",
            "7 pages allocated for 65531 weights\n",
            "total_network_cost: 0.7708168029785156\n",
            "       0-th page\n",
            "       1-th page\n",
            "       0-th page\n",
            "       4-th page\n"
          ],
          "name": "stdout"
        }
      ]
    },
    {
      "cell_type": "code",
      "metadata": {
        "colab": {
          "base_uri": "https://localhost:8080/"
        },
        "id": "SkOZ4W2RggPf",
        "outputId": "fa4d1f62-82f6-4c8b-9b74-41727b7ad123"
      },
      "source": [
        "!python weight_virtualization_10000.py -mode=a -network_path=gtsrb | tee -a gtsrb_matching_10000_pages.txt"
      ],
      "execution_count": 9,
      "outputs": [
        {
          "output_type": "stream",
          "text": [
            "add_vnn\n",
            "gtsrb/gtsrb_network_weight.npy\n",
            "compute_fisher\n",
            "do_compute_fisher\n",
            "sample num:    0, data_idx: 34428\n",
            "sample num:    1, data_idx: 25894\n",
            "sample num:    2, data_idx: 35882\n",
            "sample num:    3, data_idx: 28240\n",
            "sample num:    4, data_idx: 11450\n",
            "sample num:    5, data_idx: 26516\n",
            "sample num:    6, data_idx:  4179\n",
            "sample num:    7, data_idx:  7731\n",
            "sample num:    8, data_idx: 39097\n",
            "sample num:    9, data_idx: 14458\n",
            "sample num:   10, data_idx: 18583\n",
            "sample num:   11, data_idx:  1222\n",
            "sample num:   12, data_idx: 33328\n",
            "sample num:   13, data_idx:  9329\n",
            "sample num:   14, data_idx: 11278\n",
            "sample num:   15, data_idx:  8232\n",
            "sample num:   16, data_idx: 37667\n",
            "sample num:   17, data_idx: 37646\n",
            "sample num:   18, data_idx: 22711\n",
            "sample num:   19, data_idx: 13078\n",
            "sample num:   20, data_idx: 15951\n",
            "sample num:   21, data_idx: 21446\n",
            "sample num:   22, data_idx: 13870\n",
            "sample num:   23, data_idx: 16586\n",
            "sample num:   24, data_idx:  3109\n",
            "sample num:   25, data_idx: 18023\n",
            "sample num:   26, data_idx:  6494\n",
            "sample num:   27, data_idx:  9036\n",
            "sample num:   28, data_idx: 36656\n",
            "sample num:   29, data_idx: 25206\n",
            "sample num:   30, data_idx:  3140\n",
            "sample num:   31, data_idx: 14280\n",
            "sample num:   32, data_idx: 18902\n",
            "sample num:   33, data_idx: 25741\n",
            "sample num:   34, data_idx: 27916\n",
            "sample num:   35, data_idx: 13443\n",
            "sample num:   36, data_idx: 24694\n",
            "sample num:   37, data_idx: 21353\n",
            "sample num:   38, data_idx: 30893\n",
            "sample num:   39, data_idx:  7545\n",
            "sample num:   40, data_idx:  5976\n",
            "sample num:   41, data_idx: 15539\n",
            "sample num:   42, data_idx:  6173\n",
            "sample num:   43, data_idx:  9635\n",
            "sample num:   44, data_idx: 32836\n",
            "sample num:   45, data_idx: 29245\n",
            "sample num:   46, data_idx: 32691\n",
            "sample num:   47, data_idx:  9373\n",
            "sample num:   48, data_idx: 23244\n",
            "sample num:   49, data_idx: 12246\n",
            "sample num:   50, data_idx:  2434\n",
            "sample num:   51, data_idx:  3141\n",
            "sample num:   52, data_idx: 16195\n",
            "sample num:   53, data_idx: 25141\n",
            "sample num:   54, data_idx:  9767\n",
            "sample num:   55, data_idx: 35841\n",
            "sample num:   56, data_idx: 31142\n",
            "sample num:   57, data_idx: 18005\n",
            "sample num:   58, data_idx: 32426\n",
            "sample num:   59, data_idx:  5253\n",
            "sample num:   60, data_idx: 23457\n",
            "sample num:   61, data_idx: 23137\n",
            "sample num:   62, data_idx: 34709\n",
            "sample num:   63, data_idx: 35158\n",
            "sample num:   64, data_idx: 10244\n",
            "sample num:   65, data_idx: 17942\n",
            "sample num:   66, data_idx: 23415\n",
            "sample num:   67, data_idx:  7065\n",
            "sample num:   68, data_idx: 31786\n",
            "sample num:   69, data_idx:  5089\n",
            "sample num:   70, data_idx: 27396\n",
            "sample num:   71, data_idx: 15289\n",
            "sample num:   72, data_idx: 19923\n",
            "sample num:   73, data_idx:  7673\n",
            "sample num:   74, data_idx:  6636\n",
            "sample num:   75, data_idx:  5457\n",
            "sample num:   76, data_idx: 33756\n",
            "sample num:   77, data_idx: 11966\n",
            "sample num:   78, data_idx: 18709\n",
            "sample num:   79, data_idx: 31547\n",
            "sample num:   80, data_idx: 16675\n",
            "sample num:   81, data_idx: 32132\n",
            "sample num:   82, data_idx: 23054\n",
            "sample num:   83, data_idx: 16026\n",
            "sample num:   84, data_idx: 18682\n",
            "sample num:   85, data_idx: 26597\n",
            "sample num:   86, data_idx: 15536\n",
            "sample num:   87, data_idx:  6337\n",
            "sample num:   88, data_idx: 34772\n",
            "sample num:   89, data_idx: 20445\n",
            "sample num:   90, data_idx: 30460\n",
            "sample num:   91, data_idx: 33412\n",
            "sample num:   92, data_idx: 23951\n",
            "sample num:   93, data_idx: 19605\n",
            "sample num:   94, data_idx:  8286\n",
            "sample num:   95, data_idx: 14476\n",
            "sample num:   96, data_idx: 22759\n",
            "sample num:   97, data_idx: 36779\n",
            "sample num:   98, data_idx: 18967\n",
            "sample num:   99, data_idx: 29567\n",
            "gtsrb/gtsrb_network_fisher.npy\n",
            "[match_page_by_cost]\n",
            "occupation: 0\n",
            "len(page_list): 0\n",
            "len(network_page_list): 7\n",
            "cost: 0\n",
            "\n",
            "occupation: 1\n",
            "len(page_list): 2\n",
            "len(network_page_list): 7\n",
            "cost: 15.413347\n",
            "\n",
            "occupation: 2\n",
            "len(page_list): 5\n",
            "len(network_page_list): 5\n",
            "cost: 0.25318998\n",
            "\n",
            "assing_page 81.598 ms\n",
            "[calculate_cost]\n",
            "toal_cost: 15.666813341900706\n",
            "7 pages allocated for 66475 weights\n",
            "total_network_cost: 25.801418483257294\n",
            "       0-th page\n",
            "       1-th page\n",
            "       0-th page\n",
            "       4-th page\n"
          ],
          "name": "stdout"
        }
      ]
    },
    {
      "cell_type": "code",
      "metadata": {
        "colab": {
          "base_uri": "https://localhost:8080/"
        },
        "id": "BwyeK3-Dg_nv",
        "outputId": "1590d7b9-9eba-4ecb-e1f2-5e7d6f58eda3"
      },
      "source": [
        "!python weight_virtualization_10000.py -mode=a -network_path=cifar10 | tee -a cifar10_matching_10000_pages.txt"
      ],
      "execution_count": 10,
      "outputs": [
        {
          "output_type": "stream",
          "text": [
            "tcmalloc: large alloc 1228800000 bytes == 0x762e000 @  0x7f49a5ba81e7 0x7f49a34f1ca1 0x7f49a355b9c5 0x7f49a355c55e 0x7f49a35f5a6e 0x50a4a5 0x50cc96 0x507be4 0x509900 0x50a2fd 0x50cc96 0x507be4 0x509900 0x50a2fd 0x50beb4 0x507be4 0x516069 0x566fae 0x510e51 0x507be4 0x509900 0x50a2fd 0x50beb4 0x5095c8 0x50a2fd 0x50beb4 0x5095c8 0x50a2fd 0x50beb4 0x5095c8 0x50a2fd\n",
            "add_vnn\n",
            "cifar10/cifar10_network_weight.npy\n",
            "compute_fisher\n",
            "do_compute_fisher\n",
            "sample num:    0, data_idx: 41616\n",
            "sample num:    1, data_idx: 22689\n",
            "sample num:    2, data_idx: 32752\n",
            "sample num:    3, data_idx: 21230\n",
            "sample num:    4, data_idx: 31976\n",
            "sample num:    5, data_idx: 31978\n",
            "sample num:    6, data_idx: 34947\n",
            "sample num:    7, data_idx: 45455\n",
            "sample num:    8, data_idx: 12937\n",
            "sample num:    9, data_idx: 41355\n",
            "sample num:   10, data_idx:  3318\n",
            "sample num:   11, data_idx: 31077\n",
            "sample num:   12, data_idx: 41284\n",
            "sample num:   13, data_idx: 47659\n",
            "sample num:   14, data_idx: 42053\n",
            "sample num:   15, data_idx: 35185\n",
            "sample num:   16, data_idx: 30182\n",
            "sample num:   17, data_idx: 36990\n",
            "sample num:   18, data_idx: 42935\n",
            "sample num:   19, data_idx: 17699\n",
            "sample num:   20, data_idx: 29062\n",
            "sample num:   21, data_idx: 35589\n",
            "sample num:   22, data_idx: 23033\n",
            "sample num:   23, data_idx: 20476\n",
            "sample num:   24, data_idx:  5703\n",
            "sample num:   25, data_idx: 27754\n",
            "sample num:   26, data_idx: 16284\n",
            "sample num:   27, data_idx: 34292\n",
            "sample num:   28, data_idx: 16565\n",
            "sample num:   29, data_idx: 16729\n",
            "sample num:   30, data_idx:  8416\n",
            "sample num:   31, data_idx: 33994\n",
            "sample num:   32, data_idx:  1905\n",
            "sample num:   33, data_idx: 46808\n",
            "sample num:   34, data_idx: 29053\n",
            "sample num:   35, data_idx: 46977\n",
            "sample num:   36, data_idx: 17585\n",
            "sample num:   37, data_idx: 40765\n",
            "sample num:   38, data_idx: 27480\n",
            "sample num:   39, data_idx: 14904\n",
            "sample num:   40, data_idx: 11748\n",
            "sample num:   41, data_idx: 16134\n",
            "sample num:   42, data_idx: 25403\n",
            "sample num:   43, data_idx: 45225\n",
            "sample num:   44, data_idx: 26703\n",
            "sample num:   45, data_idx:  3904\n",
            "sample num:   46, data_idx: 15375\n",
            "sample num:   47, data_idx: 26924\n",
            "sample num:   48, data_idx:  6891\n",
            "sample num:   49, data_idx: 26325\n",
            "sample num:   50, data_idx:  5603\n",
            "sample num:   51, data_idx: 30039\n",
            "sample num:   52, data_idx:  1549\n",
            "sample num:   53, data_idx: 38460\n",
            "sample num:   54, data_idx: 31141\n",
            "sample num:   55, data_idx:  6134\n",
            "sample num:   56, data_idx: 32908\n",
            "sample num:   57, data_idx: 29362\n",
            "sample num:   58, data_idx: 12783\n",
            "sample num:   59, data_idx: 11864\n",
            "sample num:   60, data_idx: 30790\n",
            "sample num:   61, data_idx:    82\n",
            "sample num:   62, data_idx: 35445\n",
            "sample num:   63, data_idx:  7087\n",
            "sample num:   64, data_idx: 27119\n",
            "sample num:   65, data_idx: 11150\n",
            "sample num:   66, data_idx:  8141\n",
            "sample num:   67, data_idx: 16871\n",
            "sample num:   68, data_idx: 36276\n",
            "sample num:   69, data_idx: 16555\n",
            "sample num:   70, data_idx: 11142\n",
            "sample num:   71, data_idx: 18242\n",
            "sample num:   72, data_idx: 35420\n",
            "sample num:   73, data_idx: 29755\n",
            "sample num:   74, data_idx:  7871\n",
            "sample num:   75, data_idx: 39659\n",
            "sample num:   76, data_idx: 48856\n",
            "sample num:   77, data_idx:  2997\n",
            "sample num:   78, data_idx: 28299\n",
            "sample num:   79, data_idx:  8078\n",
            "sample num:   80, data_idx: 30922\n",
            "sample num:   81, data_idx: 48915\n",
            "sample num:   82, data_idx: 48979\n",
            "sample num:   83, data_idx: 34587\n",
            "sample num:   84, data_idx: 42938\n",
            "sample num:   85, data_idx: 10486\n",
            "sample num:   86, data_idx: 48961\n",
            "sample num:   87, data_idx:  4055\n",
            "sample num:   88, data_idx: 22998\n",
            "sample num:   89, data_idx: 34873\n",
            "sample num:   90, data_idx: 23848\n",
            "sample num:   91, data_idx: 16300\n",
            "sample num:   92, data_idx:  8427\n",
            "sample num:   93, data_idx: 11555\n",
            "sample num:   94, data_idx: 13642\n",
            "sample num:   95, data_idx:  3726\n",
            "sample num:   96, data_idx: 38703\n",
            "sample num:   97, data_idx: 16616\n",
            "sample num:   98, data_idx: 24380\n",
            "sample num:   99, data_idx: 48419\n",
            "cifar10/cifar10_network_fisher.npy\n",
            "[match_page_by_cost]\n",
            "occupation: 0\n",
            "len(page_list): 0\n",
            "len(network_page_list): 5\n",
            "cost: 0\n",
            "\n",
            "occupation: 1\n",
            "len(page_list): 0\n",
            "len(network_page_list): 5\n",
            "cost: 0\n",
            "\n",
            "occupation: 2\n",
            "len(page_list): 2\n",
            "len(network_page_list): 5\n",
            "cost: 17.907608\n",
            "\n",
            "occupation: 3\n",
            "len(page_list): 5\n",
            "len(network_page_list): 3\n",
            "cost: 0.024541264\n",
            "\n",
            "assing_page 80.658 ms\n",
            "[calculate_cost]\n",
            "toal_cost: 17.932324800640345\n",
            "5 pages allocated for 45490 weights\n",
            "total_network_cost: 86.91029261099175\n",
            "       0-th page\n",
            "       1-th page\n",
            "       0-th page\n",
            "       2-th page\n"
          ],
          "name": "stdout"
        }
      ]
    },
    {
      "cell_type": "code",
      "metadata": {
        "colab": {
          "base_uri": "https://localhost:8080/"
        },
        "id": "etzJQqvlhoyo",
        "outputId": "edb247ca-c342-4418-d9bf-614b4fe556ab"
      },
      "source": [
        "!python weight_virtualization_10000.py -mode=a -network_path=svhn | tee -a svhn_matching_10000_pages.txt"
      ],
      "execution_count": 11,
      "outputs": [
        {
          "output_type": "stream",
          "text": [
            "add_vnn\n",
            "svhn/svhn_network_weight.npy\n",
            "compute_fisher\n",
            "do_compute_fisher\n",
            "sample num:    0, data_idx: 63168\n",
            "sample num:    1, data_idx:  3072\n",
            "sample num:    2, data_idx: 40535\n",
            "sample num:    3, data_idx: 24523\n",
            "sample num:    4, data_idx: 19459\n",
            "sample num:    5, data_idx: 12232\n",
            "sample num:    6, data_idx: 35017\n",
            "sample num:    7, data_idx: 41166\n",
            "sample num:    8, data_idx: 28260\n",
            "sample num:    9, data_idx: 61357\n",
            "sample num:   10, data_idx: 51211\n",
            "sample num:   11, data_idx: 63967\n",
            "sample num:   12, data_idx: 51157\n",
            "sample num:   13, data_idx:  2207\n",
            "sample num:   14, data_idx: 39014\n",
            "sample num:   15, data_idx:  4742\n",
            "sample num:   16, data_idx: 35083\n",
            "sample num:   17, data_idx: 14514\n",
            "sample num:   18, data_idx: 48631\n",
            "sample num:   19, data_idx: 50477\n",
            "sample num:   20, data_idx: 16970\n",
            "sample num:   21, data_idx: 49852\n",
            "sample num:   22, data_idx: 60918\n",
            "sample num:   23, data_idx: 25896\n",
            "sample num:   24, data_idx: 19683\n",
            "sample num:   25, data_idx:  6799\n",
            "sample num:   26, data_idx: 42840\n",
            "sample num:   27, data_idx: 42135\n",
            "sample num:   28, data_idx: 41673\n",
            "sample num:   29, data_idx: 43692\n",
            "sample num:   30, data_idx: 45132\n",
            "sample num:   31, data_idx: 13240\n",
            "sample num:   32, data_idx: 10001\n",
            "sample num:   33, data_idx: 57506\n",
            "sample num:   34, data_idx: 32673\n",
            "sample num:   35, data_idx: 33652\n",
            "sample num:   36, data_idx: 56094\n",
            "sample num:   37, data_idx: 32110\n",
            "sample num:   38, data_idx: 58210\n",
            "sample num:   39, data_idx: 46747\n",
            "sample num:   40, data_idx: 47696\n",
            "sample num:   41, data_idx:  7284\n",
            "sample num:   42, data_idx: 23896\n",
            "sample num:   43, data_idx: 51280\n",
            "sample num:   44, data_idx: 40269\n",
            "sample num:   45, data_idx: 57960\n",
            "sample num:   46, data_idx:  3235\n",
            "sample num:   47, data_idx: 28721\n",
            "sample num:   48, data_idx: 34640\n",
            "sample num:   49, data_idx: 53004\n",
            "sample num:   50, data_idx:  9978\n",
            "sample num:   51, data_idx:  4991\n",
            "sample num:   52, data_idx: 64798\n",
            "sample num:   53, data_idx:  8942\n",
            "sample num:   54, data_idx: 38029\n",
            "sample num:   55, data_idx: 39628\n",
            "sample num:   56, data_idx: 65053\n",
            "sample num:   57, data_idx: 33185\n",
            "sample num:   58, data_idx: 12037\n",
            "sample num:   59, data_idx: 58596\n",
            "sample num:   60, data_idx: 51355\n",
            "sample num:   61, data_idx: 25451\n",
            "sample num:   62, data_idx: 16607\n",
            "sample num:   63, data_idx: 12724\n",
            "sample num:   64, data_idx: 54307\n",
            "sample num:   65, data_idx: 23198\n",
            "sample num:   66, data_idx:  6500\n",
            "sample num:   67, data_idx: 26227\n",
            "sample num:   68, data_idx: 62555\n",
            "sample num:   69, data_idx: 18631\n",
            "sample num:   70, data_idx: 36500\n",
            "sample num:   71, data_idx:  5954\n",
            "sample num:   72, data_idx:  1277\n",
            "sample num:   73, data_idx: 21787\n",
            "sample num:   74, data_idx: 19447\n",
            "sample num:   75, data_idx: 65607\n",
            "sample num:   76, data_idx: 16062\n",
            "sample num:   77, data_idx: 41373\n",
            "sample num:   78, data_idx: 11033\n",
            "sample num:   79, data_idx: 28022\n",
            "sample num:   80, data_idx: 10020\n",
            "sample num:   81, data_idx: 54153\n",
            "sample num:   82, data_idx: 46558\n",
            "sample num:   83, data_idx: 19260\n",
            "sample num:   84, data_idx: 15320\n",
            "sample num:   85, data_idx: 45857\n",
            "sample num:   86, data_idx: 39442\n",
            "sample num:   87, data_idx: 45359\n",
            "sample num:   88, data_idx:   490\n",
            "sample num:   89, data_idx: 51290\n",
            "sample num:   90, data_idx:  7834\n",
            "sample num:   91, data_idx: 24614\n",
            "sample num:   92, data_idx: 14223\n",
            "sample num:   93, data_idx:  4131\n",
            "sample num:   94, data_idx: 42180\n",
            "sample num:   95, data_idx: 29559\n",
            "sample num:   96, data_idx: 36600\n",
            "sample num:   97, data_idx:  5201\n",
            "sample num:   98, data_idx: 60140\n",
            "sample num:   99, data_idx:  4906\n",
            "svhn/svhn_network_fisher.npy\n",
            "[match_page_by_cost]\n",
            "occupation: 0\n",
            "len(page_list): 0\n",
            "len(network_page_list): 5\n",
            "cost: 0\n",
            "\n",
            "occupation: 1\n",
            "len(page_list): 0\n",
            "len(network_page_list): 5\n",
            "cost: 0\n",
            "\n",
            "occupation: 2\n",
            "len(page_list): 0\n",
            "len(network_page_list): 5\n",
            "cost: 0\n",
            "\n",
            "occupation: 3\n",
            "len(page_list): 4\n",
            "len(network_page_list): 5\n",
            "cost: 11.642354\n",
            "\n",
            "occupation: 4\n",
            "len(page_list): 3\n",
            "len(network_page_list): 1\n",
            "cost: 0.004771677\n",
            "\n",
            "assing_page 75.167 ms\n",
            "[calculate_cost]\n",
            "toal_cost: 11.647374502383173\n",
            "5 pages allocated for 45490 weights\n",
            "total_network_cost: 134.2349648331292\n",
            "       0-th page\n",
            "       3-th page\n",
            "       0-th page\n"
          ],
          "name": "stdout"
        }
      ]
    },
    {
      "cell_type": "markdown",
      "metadata": {
        "id": "4DmNbSY08FBC"
      },
      "source": [
        "###Step 2: Weight-Page Optimization"
      ]
    },
    {
      "cell_type": "code",
      "metadata": {
        "id": "j6LCyycuhsQo",
        "colab": {
          "base_uri": "https://localhost:8080/"
        },
        "outputId": "ca53831b-8488-4024-b03e-ebe3af516593"
      },
      "source": [
        "!bash ./joint_optimization_with_logs_10000.sh"
      ],
      "execution_count": null,
      "outputs": [
        {
          "output_type": "stream",
          "text": [
            "1-th joint optimization\n",
            "MNIST performance\n",
            "Extracting MNIST_data/train-images-idx3-ubyte.gz\n",
            "Extracting MNIST_data/train-labels-idx1-ubyte.gz\n",
            "Extracting MNIST_data/t10k-images-idx3-ubyte.gz\n",
            "Extracting MNIST_data/t10k-labels-idx1-ubyte.gz\n",
            "Inference accuracy: 0.299500\n",
            "GSC performance\n",
            "Inference accuracy: 0.377465\n",
            "GTSRB performance\n",
            "Inference accuracy: 0.448931\n",
            "CIFAR10 performance\n",
            "tcmalloc: large alloc 1228800000 bytes == 0x6428000 @  0x7fdef83a81e7 0x7fdef5cf1ca1 0x7fdef5d5b9c5 0x7fdef5d5c55e 0x7fdef5df5a6e 0x50a4a5 0x50cc96 0x507be4 0x509900 0x50a2fd 0x50cc96 0x507be4 0x509900 0x50a2fd 0x50beb4 0x507be4 0x516069 0x566fae 0x510e51 0x507be4 0x509900 0x50a2fd 0x50beb4 0x5095c8 0x50a2fd 0x50beb4 0x5095c8 0x50a2fd 0x50beb4 0x5095c8 0x50a2fd\n",
            "Inference accuracy: 0.490500\n",
            "SVHN performance\n",
            "Inference accuracy: 0.828903\n",
            "2-th joint optimization\n"
          ],
          "name": "stdout"
        }
      ]
    },
    {
      "cell_type": "code",
      "metadata": {
        "id": "dPqG9K-hWwh2"
      },
      "source": [
        "## 6-10\n",
        "!bash ./joint_optimization_with_logs_10000.sh"
      ],
      "execution_count": null,
      "outputs": []
    },
    {
      "cell_type": "code",
      "metadata": {
        "id": "QIeRlxVGaYxn"
      },
      "source": [
        "## 11-15\n",
        "!bash ./joint_optimization_with_logs_10000.sh"
      ],
      "execution_count": null,
      "outputs": []
    },
    {
      "cell_type": "code",
      "metadata": {
        "id": "tF1DpMqbf5P5"
      },
      "source": [
        "## 16-20\n",
        "!bash ./joint_optimization_with_logs_10000.sh"
      ],
      "execution_count": null,
      "outputs": []
    },
    {
      "cell_type": "markdown",
      "metadata": {
        "id": "RVI6WqCU8hd-"
      },
      "source": [
        "###Inference Accuracy Check"
      ]
    },
    {
      "cell_type": "code",
      "metadata": {
        "colab": {
          "base_uri": "https://localhost:8080/"
        },
        "id": "Gv5CEEiu8nYb",
        "outputId": "7a73071e-ac80-4b73-cea8-2074f20cab19"
      },
      "source": [
        "!python weight_virtualization.py -mode=e -vnn_name=mnist"
      ],
      "execution_count": null,
      "outputs": [
        {
          "output_type": "stream",
          "text": [
            "Extracting MNIST_data/train-images-idx3-ubyte.gz\n",
            "Extracting MNIST_data/train-labels-idx1-ubyte.gz\n",
            "Extracting MNIST_data/t10k-images-idx3-ubyte.gz\n",
            "Extracting MNIST_data/t10k-labels-idx1-ubyte.gz\n",
            "Inference accuracy: 0.981600\n"
          ],
          "name": "stdout"
        }
      ]
    },
    {
      "cell_type": "code",
      "metadata": {
        "colab": {
          "base_uri": "https://localhost:8080/"
        },
        "id": "IgxU3jsg-CBS",
        "outputId": "2d4d4631-3950-4686-9731-1afede27bf35"
      },
      "source": [
        "!python weight_virtualization.py -mode=e -vnn_name=gsc"
      ],
      "execution_count": null,
      "outputs": [
        {
          "output_type": "stream",
          "text": [
            "Inference accuracy: 0.756565\n"
          ],
          "name": "stdout"
        }
      ]
    },
    {
      "cell_type": "code",
      "metadata": {
        "colab": {
          "base_uri": "https://localhost:8080/"
        },
        "id": "op-NWNsh-Bz4",
        "outputId": "31ef0595-b011-42d2-c058-e56b314c02de"
      },
      "source": [
        "!python weight_virtualization.py -mode=e -vnn_name=gtsrb"
      ],
      "execution_count": null,
      "outputs": [
        {
          "output_type": "stream",
          "text": [
            "Inference accuracy: 0.950198\n"
          ],
          "name": "stdout"
        }
      ]
    },
    {
      "cell_type": "code",
      "metadata": {
        "colab": {
          "base_uri": "https://localhost:8080/"
        },
        "id": "z14HYvDO-BpZ",
        "outputId": "6b8c817c-16fd-4cd0-e627-6cdae40c598a"
      },
      "source": [
        "!python weight_virtualization.py -mode=e -vnn_name=cifar10"
      ],
      "execution_count": null,
      "outputs": [
        {
          "output_type": "stream",
          "text": [
            "tcmalloc: large alloc 1228800000 bytes == 0x64cc000 @  0x7fe93a9821e7 0x7fe9382cbca1 0x7fe9383359c5 0x7fe93833655e 0x7fe9383cfa6e 0x50a4a5 0x50cc96 0x507be4 0x509900 0x50a2fd 0x50cc96 0x507be4 0x509900 0x50a2fd 0x50beb4 0x507be4 0x516069 0x566fae 0x510e51 0x507be4 0x509900 0x50a2fd 0x50beb4 0x5095c8 0x50a2fd 0x50beb4 0x5095c8 0x50a2fd 0x50beb4 0x5095c8 0x50a2fd\n",
            "Inference accuracy: 0.592700\n"
          ],
          "name": "stdout"
        }
      ]
    },
    {
      "cell_type": "code",
      "metadata": {
        "colab": {
          "base_uri": "https://localhost:8080/"
        },
        "id": "e8nUhJOy-Bf0",
        "outputId": "6fb90a19-4456-4f7e-c758-4c89e6980306"
      },
      "source": [
        "!python weight_virtualization.py -mode=e -vnn_name=svhn"
      ],
      "execution_count": null,
      "outputs": [
        {
          "output_type": "stream",
          "text": [
            "Inference accuracy: 0.854640\n"
          ],
          "name": "stdout"
        }
      ]
    },
    {
      "cell_type": "code",
      "metadata": {
        "colab": {
          "base_uri": "https://localhost:8080/"
        },
        "id": "wEFmaOc3-BGp",
        "outputId": "10c44f4b-b94e-4b3b-e5da-e368a5cf1b18"
      },
      "source": [
        "!python weight_virtualization.py -mode=e -vnn_name=us8k"
      ],
      "execution_count": null,
      "outputs": [
        {
          "output_type": "stream",
          "text": [
            "Inference accuracy: 0.409436\n"
          ],
          "name": "stdout"
        }
      ]
    },
    {
      "cell_type": "markdown",
      "metadata": {
        "id": "Fhb4qOlb8nru"
      },
      "source": [
        "##5. Multitask execution"
      ]
    },
    {
      "cell_type": "markdown",
      "metadata": {
        "id": "z9NG0aZX84Lx"
      },
      "source": [
        "### In-Memory Execution of Virtualised Neural Networks"
      ]
    },
    {
      "cell_type": "code",
      "metadata": {
        "colab": {
          "base_uri": "https://localhost:8080/"
        },
        "id": "eoqhzb-u841P",
        "outputId": "e533f26e-5909-496e-efa0-7ff103e485ee"
      },
      "source": [
        "!python in-memory_execute.py"
      ],
      "execution_count": null,
      "outputs": [
        {
          "output_type": "stream",
          "text": [
            "virtual_weight address: 140485340430336\n",
            "init virtual_weight 7.166 ms\n",
            "[VNN 0][cifar10] init page table 4.357 ms\n",
            "[VNN 1][gsc] init page table 3.884 ms\n",
            "[VNN 2][gtsrb] init page table 3.597 ms\n",
            "[VNN 3][mnist] init page table 3.605 ms\n",
            "[VNN 4][svhn] init page table 3.572 ms\n",
            "tf.global_variables_initializer 1051.667 ms\n",
            "[Executing] gsc\n",
            "weights load time : 0.326 ms\n",
            "DNN execution time: 1529.363 ms\n",
            "Inference accuracy: 0.756565\n",
            "[Executing] gsc\n",
            "weights load time : 0.191 ms\n",
            "DNN execution time: 29.504 ms\n",
            "Inference accuracy: 0.756565\n",
            "[Executing] svhn\n",
            "weights load time : 0.314 ms\n",
            "DNN execution time: 435.534 ms\n",
            "Inference accuracy: 0.854640\n",
            "[Executing] svhn\n",
            "weights load time : 0.234 ms\n",
            "DNN execution time: 102.165 ms\n",
            "Inference accuracy: 0.854640\n",
            "[Executing] gtsrb\n",
            "weights load time : 0.240 ms\n",
            "DNN execution time: 313.690 ms\n",
            "Inference accuracy: 0.950198\n",
            "[Executing] svhn\n",
            "weights load time : 0.206 ms\n",
            "DNN execution time: 102.168 ms\n",
            "Inference accuracy: 0.854640\n",
            "[Executing] gtsrb\n",
            "weights load time : 0.209 ms\n",
            "DNN execution time: 48.815 ms\n",
            "Inference accuracy: 0.950198\n",
            "Extracting MNIST_data/train-images-idx3-ubyte.gz\n",
            "Extracting MNIST_data/train-labels-idx1-ubyte.gz\n",
            "Extracting MNIST_data/t10k-images-idx3-ubyte.gz\n",
            "Extracting MNIST_data/t10k-labels-idx1-ubyte.gz\n",
            "[Executing] mnist\n",
            "weights load time : 0.336 ms\n",
            "DNN execution time: 237.475 ms\n",
            "Inference accuracy: 0.981600\n",
            "[Executing] gsc\n",
            "weights load time : 0.274 ms\n",
            "DNN execution time: 29.808 ms\n",
            "Inference accuracy: 0.756565\n",
            "[Executing] mnist\n",
            "weights load time : 0.210 ms\n",
            "DNN execution time: 18.797 ms\n",
            "Inference accuracy: 0.981600\n",
            "[Executing] gsc\n",
            "weights load time : 0.198 ms\n",
            "DNN execution time: 29.602 ms\n",
            "Inference accuracy: 0.756565\n",
            "[Executing] svhn\n",
            "weights load time : 0.195 ms\n",
            "DNN execution time: 100.530 ms\n",
            "Inference accuracy: 0.854640\n",
            "[Executing] gsc\n",
            "weights load time : 0.224 ms\n",
            "DNN execution time: 28.953 ms\n",
            "Inference accuracy: 0.756565\n",
            "[Executing] svhn\n",
            "weights load time : 0.200 ms\n",
            "DNN execution time: 99.233 ms\n",
            "Inference accuracy: 0.854640\n",
            "[Executing] gtsrb\n",
            "weights load time : 0.216 ms\n",
            "DNN execution time: 49.593 ms\n",
            "Inference accuracy: 0.950198\n",
            "[Executing] mnist\n",
            "weights load time : 0.210 ms\n",
            "DNN execution time: 18.950 ms\n",
            "Inference accuracy: 0.981600\n",
            "tcmalloc: large alloc 1228800000 bytes == 0x10464a000 @  0x7fc5f316b1e7 0x7fc5f0cf4ca1 0x7fc5f0d5e9c5 0x7fc5f0d5f55e 0x7fc5f0df8a6e 0x50a4a5 0x50cc96 0x507be4 0x509900 0x50a2fd 0x50cc96 0x507be4 0x509900 0x50a2fd 0x50beb4 0x507be4 0x516069 0x566fae 0x510e51 0x507be4 0x509900 0x50a2fd 0x50beb4 0x5095c8 0x50a2fd 0x50beb4 0x5095c8 0x50a2fd 0x50beb4 0x5095c8 0x50a2fd\n",
            "[Executing] cifar10\n",
            "weights load time : 0.363 ms\n",
            "DNN execution time: 335.993 ms\n",
            "Inference accuracy: 0.592700\n",
            "[Executing] mnist\n",
            "weights load time : 0.222 ms\n",
            "DNN execution time: 18.494 ms\n",
            "Inference accuracy: 0.981600\n",
            "[Executing] svhn\n",
            "weights load time : 0.208 ms\n",
            "DNN execution time: 100.854 ms\n",
            "Inference accuracy: 0.854640\n",
            "[Executing] gtsrb\n",
            "weights load time : 0.244 ms\n",
            "DNN execution time: 48.777 ms\n",
            "Inference accuracy: 0.950198\n",
            "[Executing] gsc\n",
            "weights load time : 0.257 ms\n",
            "DNN execution time: 30.491 ms\n",
            "Inference accuracy: 0.756565\n",
            "[Executing] mnist\n",
            "weights load time : 0.205 ms\n",
            "DNN execution time: 18.359 ms\n",
            "Inference accuracy: 0.981600\n",
            "[Executing] gtsrb\n",
            "weights load time : 0.225 ms\n",
            "DNN execution time: 48.900 ms\n",
            "Inference accuracy: 0.950198\n",
            "[Executing] cifar10\n",
            "weights load time : 0.198 ms\n",
            "DNN execution time: 81.906 ms\n",
            "Inference accuracy: 0.592700\n",
            "[Executing] gsc\n",
            "weights load time : 0.184 ms\n",
            "DNN execution time: 28.690 ms\n",
            "Inference accuracy: 0.756565\n",
            "[Executing] gsc\n",
            "weights load time : 0.223 ms\n",
            "DNN execution time: 31.085 ms\n",
            "Inference accuracy: 0.756565\n",
            "[Executing] cifar10\n",
            "weights load time : 0.202 ms\n",
            "DNN execution time: 81.092 ms\n",
            "Inference accuracy: 0.592700\n",
            "[Executing] gsc\n",
            "weights load time : 0.197 ms\n",
            "DNN execution time: 29.476 ms\n",
            "Inference accuracy: 0.756565\n",
            "[Executing] mnist\n",
            "weights load time : 0.204 ms\n",
            "DNN execution time: 18.753 ms\n",
            "Inference accuracy: 0.981600\n",
            "[Executing] gtsrb\n",
            "weights load time : 0.205 ms\n",
            "DNN execution time: 48.325 ms\n",
            "Inference accuracy: 0.950198\n",
            "total weights load time : 6.921 ms\n",
            "total DNN execution time: 4095.374 ms\n"
          ],
          "name": "stdout"
        }
      ]
    },
    {
      "cell_type": "markdown",
      "metadata": {
        "id": "l-dwSnRQ85FF"
      },
      "source": [
        "### Baseline execution of Non-Virtualised Neural Networks"
      ]
    },
    {
      "cell_type": "code",
      "metadata": {
        "colab": {
          "base_uri": "https://localhost:8080/"
        },
        "id": "DXq85g9Z5ARv",
        "outputId": "15de664a-8943-4bd3-e322-ff3c4e275bc2"
      },
      "source": [
        "!python baseline_execute.py"
      ],
      "execution_count": null,
      "outputs": [
        {
          "output_type": "stream",
          "text": [
            "Extracting MNIST_data/train-images-idx3-ubyte.gz\n",
            "Extracting MNIST_data/train-labels-idx1-ubyte.gz\n",
            "Extracting MNIST_data/t10k-images-idx3-ubyte.gz\n",
            "Extracting MNIST_data/t10k-labels-idx1-ubyte.gz\n",
            "[Executing] mnist\n",
            "weights load time : 78.458 ms\n",
            "DNN execution time: 1888.054 ms\n",
            "Inference accuracy: 0.980800\n",
            "[Executing] mnist\n",
            "weights load time : 61.058 ms\n",
            "DNN execution time: 48.315 ms\n",
            "Inference accuracy: 0.980800\n",
            "[Executing] gtsrb\n",
            "weights load time : 66.675 ms\n",
            "DNN execution time: 292.852 ms\n",
            "Inference accuracy: 0.928029\n",
            "[Executing] gtsrb\n",
            "weights load time : 50.251 ms\n",
            "DNN execution time: 75.640 ms\n",
            "Inference accuracy: 0.928029\n",
            "[Executing] svhn\n",
            "weights load time : 119.908 ms\n",
            "DNN execution time: 370.488 ms\n",
            "Inference accuracy: 0.814843\n",
            "[Executing] gtsrb\n",
            "weights load time : 48.191 ms\n",
            "DNN execution time: 91.353 ms\n",
            "Inference accuracy: 0.928029\n",
            "[Executing] svhn\n",
            "weights load time : 120.773 ms\n",
            "DNN execution time: 147.674 ms\n",
            "Inference accuracy: 0.814843\n",
            "[Executing] gsc\n",
            "weights load time : 64.835 ms\n",
            "DNN execution time: 176.558 ms\n",
            "Inference accuracy: 0.694684\n",
            "[Executing] gtsrb\n",
            "weights load time : 50.051 ms\n",
            "DNN execution time: 78.290 ms\n",
            "Inference accuracy: 0.928029\n",
            "[Executing] gtsrb\n",
            "weights load time : 56.929 ms\n",
            "DNN execution time: 84.469 ms\n",
            "Inference accuracy: 0.928029\n",
            "[Executing] gsc\n",
            "weights load time : 51.986 ms\n",
            "DNN execution time: 54.896 ms\n",
            "Inference accuracy: 0.694684\n",
            "[Executing] gtsrb\n",
            "weights load time : 54.950 ms\n",
            "DNN execution time: 78.421 ms\n",
            "Inference accuracy: 0.928029\n",
            "[Executing] gsc\n",
            "weights load time : 54.622 ms\n",
            "DNN execution time: 58.245 ms\n",
            "Inference accuracy: 0.694684\n",
            "[Executing] gtsrb\n",
            "weights load time : 52.330 ms\n",
            "DNN execution time: 74.023 ms\n",
            "Inference accuracy: 0.928029\n",
            "[Executing] mnist\n",
            "weights load time : 64.716 ms\n",
            "DNN execution time: 47.020 ms\n",
            "Inference accuracy: 0.980800\n",
            "[Executing] gtsrb\n",
            "weights load time : 55.699 ms\n",
            "DNN execution time: 80.475 ms\n",
            "Inference accuracy: 0.928029\n",
            "[Executing] gsc\n",
            "weights load time : 51.937 ms\n",
            "DNN execution time: 56.139 ms\n",
            "Inference accuracy: 0.694684\n",
            "[Executing] mnist\n",
            "weights load time : 63.575 ms\n",
            "DNN execution time: 48.896 ms\n",
            "Inference accuracy: 0.980800\n",
            "[Executing] gtsrb\n",
            "weights load time : 58.929 ms\n",
            "DNN execution time: 81.974 ms\n",
            "Inference accuracy: 0.928029\n",
            "[Executing] mnist\n",
            "weights load time : 61.549 ms\n",
            "DNN execution time: 50.014 ms\n",
            "Inference accuracy: 0.980800\n",
            "[Executing] svhn\n",
            "weights load time : 142.753 ms\n",
            "DNN execution time: 153.035 ms\n",
            "Inference accuracy: 0.814843\n",
            "[Executing] mnist\n",
            "weights load time : 58.007 ms\n",
            "DNN execution time: 46.216 ms\n",
            "Inference accuracy: 0.980800\n",
            "[Executing] mnist\n",
            "weights load time : 62.860 ms\n",
            "DNN execution time: 51.627 ms\n",
            "Inference accuracy: 0.980800\n",
            "[Executing] mnist\n",
            "weights load time : 63.945 ms\n",
            "DNN execution time: 50.298 ms\n",
            "Inference accuracy: 0.980800\n",
            "[Executing] gsc\n",
            "weights load time : 50.707 ms\n",
            "DNN execution time: 56.665 ms\n",
            "Inference accuracy: 0.694684\n",
            "[Executing] gtsrb\n",
            "weights load time : 63.996 ms\n",
            "DNN execution time: 84.162 ms\n",
            "Inference accuracy: 0.928029\n",
            "[Executing] mnist\n",
            "weights load time : 67.127 ms\n",
            "DNN execution time: 53.611 ms\n",
            "Inference accuracy: 0.980800\n",
            "[Executing] gsc\n",
            "weights load time : 54.444 ms\n",
            "DNN execution time: 59.014 ms\n",
            "Inference accuracy: 0.694684\n",
            "[Executing] gtsrb\n",
            "weights load time : 55.900 ms\n",
            "DNN execution time: 77.260 ms\n",
            "Inference accuracy: 0.928029\n",
            "[Executing] svhn\n",
            "weights load time : 133.201 ms\n",
            "DNN execution time: 151.181 ms\n",
            "Inference accuracy: 0.814843\n",
            "total weights load time : 2040.362 ms\n",
            "total DNN execution time: 4666.867 ms\n"
          ],
          "name": "stdout"
        }
      ]
    },
    {
      "cell_type": "code",
      "metadata": {
        "id": "QwEMlTrS-qDY"
      },
      "source": [
        ""
      ],
      "execution_count": null,
      "outputs": []
    }
  ]
}